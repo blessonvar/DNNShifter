{
 "cells": [
  {
   "cell_type": "code",
   "execution_count": 1,
   "id": "a682be6c-0107-4069-a2eb-6839a7a7d34a",
   "metadata": {},
   "outputs": [],
   "source": [
    "%reload_ext autoreload\n",
    "%autoreload 2\n",
    "\n",
    "from dnns_models.cifar_vgg import VGGModel\n",
    "from dnns_models.tinyimagenet_resnet import ResNetModel\n",
    "from profiler import ModelProfiler\n",
    "import time\n",
    "import numpy as np\n",
    "comp_ratio = [1,2,4,8,16,32,64,128,256]"
   ]
  },
  {
   "cell_type": "code",
   "execution_count": null,
   "id": "11e7367a-1c8d-44df-b206-951444584075",
   "metadata": {
    "jupyter": {
     "source_hidden": true
    },
    "tags": []
   },
   "outputs": [],
   "source": [
    "path = \"cifar10_vgg16/dnnshifter/\"\n",
    "p = ModelProfiler('CIFAR10')\n",
    "baseline_results = None\n",
    "for i in comp_ratio:\n",
    "    results = None\n",
    "    if i == 1:\n",
    "        m = VGGModel(str(path) + str(i) + \"/\", False)\n",
    "        baseline_results = p.profile(m.model)\n",
    "        baseline_results[\"id\"] = \"DNNShifter - VGG16/CIFAR10 - Baseline\"\n",
    "        print(baseline_results)\n",
    "    \n",
    "    m = VGGModel(str(path) + str(i) + \"/\")\n",
    "    prune_start = time.time()\n",
    "    m.prune()\n",
    "    prune_end = time.time()\n",
    "    results = p.profile(m.model)\n",
    "    \n",
    "    results[\"id\"] = \"DNNShifter - VGG16/CIFAR10 - Comp Ratio: \" + str(i)\n",
    "    results[\"Pruning time (ms)\"] = format(((prune_end - prune_start) *1000), '.4f')\n",
    "    results[\"CPU Speedup (x)\"] = format(float(baseline_results.get(\"CPU Inf (ms)\")) / float(results.get(\"CPU Inf (ms)\")), '.3f')\n",
    "    results[\"GPU Speedup (x)\"] = format(float(baseline_results.get(\"GPU Inf (ms)\")) / float(results.get(\"GPU Inf (ms)\")), '.3f')\n",
    "    results[\"Spatial Compression (x)\"] = format(float(baseline_results.get(\"# Params\")) / float(results.get(\"# Params\")), '.3f')\n",
    "    \n",
    "    print(results)"
   ]
  },
  {
   "cell_type": "code",
   "execution_count": 3,
   "id": "07c2f540-be60-4688-a02e-d2f9a601e34f",
   "metadata": {
    "collapsed": true,
    "jupyter": {
     "outputs_hidden": true,
     "source_hidden": true
    },
    "tags": []
   },
   "outputs": [
    {
     "name": "stderr",
     "output_type": "stream",
     "text": [
      "  0%|                                                                                             | 0/9 [00:00<?, ?it/s]"
     ]
    },
    {
     "name": "stdout",
     "output_type": "stream",
     "text": [
      "{'# Non-Zero Params': 25557032, '# Params': 25557032, 'Top-1 Accuracy': '54.99', 'CPU Inf (ms)': '6.1546', 'GPU Inf (ms)': '1.1966', 'id': 'DNNShifter - ResNet50/TinyImageNet - Baseline'}\n"
     ]
    },
    {
     "name": "stderr",
     "output_type": "stream",
     "text": [
      " 11%|█████████▎                                                                          | 1/9 [03:24<27:18, 204.86s/it]"
     ]
    },
    {
     "name": "stdout",
     "output_type": "stream",
     "text": [
      "{'# Non-Zero Params': 25557032, '# Params': 25557032, 'Top-1 Accuracy': '54.99', 'CPU Inf (ms)': '6.7943', 'GPU Inf (ms)': '1.3643', 'id': 'DNNShifter - ResNet50/TinyImageNet - Comp Ratio: 1', 'Pruning time (ms)': '106.5819', 'CPU Speedup (x)': '0.906', 'GPU Speedup (x)': '0.877', 'Spatial Compression (x)': '1.000'}\n"
     ]
    },
    {
     "name": "stderr",
     "output_type": "stream",
     "text": [
      " 22%|██████████████████▋                                                                 | 2/9 [05:04<16:41, 143.10s/it]"
     ]
    },
    {
     "name": "stdout",
     "output_type": "stream",
     "text": [
      "{'# Non-Zero Params': 13110763, '# Params': 24043863, 'Top-1 Accuracy': '55.29', 'CPU Inf (ms)': '6.0713', 'GPU Inf (ms)': '1.2769', 'id': 'DNNShifter - ResNet50/TinyImageNet - Comp Ratio: 2', 'Pruning time (ms)': '103.4811', 'CPU Speedup (x)': '1.014', 'GPU Speedup (x)': '0.937', 'Spatial Compression (x)': '1.063'}\n"
     ]
    },
    {
     "name": "stderr",
     "output_type": "stream",
     "text": [
      " 33%|████████████████████████████                                                        | 3/9 [06:42<12:13, 122.23s/it]"
     ]
    },
    {
     "name": "stdout",
     "output_type": "stream",
     "text": [
      "{'# Non-Zero Params': 6738454, '# Params': 23626937, 'Top-1 Accuracy': '55.78', 'CPU Inf (ms)': '5.8188', 'GPU Inf (ms)': '1.2894', 'id': 'DNNShifter - ResNet50/TinyImageNet - Comp Ratio: 4', 'Pruning time (ms)': '128.1214', 'CPU Speedup (x)': '1.058', 'GPU Speedup (x)': '0.928', 'Spatial Compression (x)': '1.082'}\n"
     ]
    },
    {
     "name": "stderr",
     "output_type": "stream",
     "text": [
      " 44%|█████████████████████████████████████▎                                              | 4/9 [08:19<09:22, 112.55s/it]"
     ]
    },
    {
     "name": "stdout",
     "output_type": "stream",
     "text": [
      "{'# Non-Zero Params': 3475735, '# Params': 23212347, 'Top-1 Accuracy': '56.06', 'CPU Inf (ms)': '5.7293', 'GPU Inf (ms)': '1.2613', 'id': 'DNNShifter - ResNet50/TinyImageNet - Comp Ratio: 8', 'Pruning time (ms)': '178.5643', 'CPU Speedup (x)': '1.074', 'GPU Speedup (x)': '0.949', 'Spatial Compression (x)': '1.101'}\n"
     ]
    },
    {
     "name": "stderr",
     "output_type": "stream",
     "text": [
      " 56%|██████████████████████████████████████████████▋                                     | 5/9 [09:58<07:10, 107.51s/it]"
     ]
    },
    {
     "name": "stdout",
     "output_type": "stream",
     "text": [
      "{'# Non-Zero Params': 1805125, '# Params': 22882047, 'Top-1 Accuracy': '55.29', 'CPU Inf (ms)': '5.7383', 'GPU Inf (ms)': '1.4655', 'id': 'DNNShifter - ResNet50/TinyImageNet - Comp Ratio: 16', 'Pruning time (ms)': '149.1182', 'CPU Speedup (x)': '1.073', 'GPU Speedup (x)': '0.817', 'Spatial Compression (x)': '1.117'}\n"
     ]
    },
    {
     "name": "stderr",
     "output_type": "stream",
     "text": [
      " 67%|████████████████████████████████████████████████████████                            | 6/9 [11:39<05:16, 105.34s/it]"
     ]
    },
    {
     "name": "stdout",
     "output_type": "stream",
     "text": [
      "{'# Non-Zero Params': 769895, '# Params': 21925674, 'Top-1 Accuracy': '53.64', 'CPU Inf (ms)': '5.5776', 'GPU Inf (ms)': '1.3791', 'id': 'DNNShifter - ResNet50/TinyImageNet - Comp Ratio: 32', 'Pruning time (ms)': '182.7340', 'CPU Speedup (x)': '1.103', 'GPU Speedup (x)': '0.868', 'Spatial Compression (x)': '1.166'}\n"
     ]
    },
    {
     "name": "stderr",
     "output_type": "stream",
     "text": [
      " 78%|█████████████████████████████████████████████████████████████████▎                  | 7/9 [13:12<03:22, 101.23s/it]"
     ]
    },
    {
     "name": "stdout",
     "output_type": "stream",
     "text": [
      "{'# Non-Zero Params': 418208, '# Params': 19338853, 'Top-1 Accuracy': '50.73', 'CPU Inf (ms)': '5.3715', 'GPU Inf (ms)': '1.2635', 'id': 'DNNShifter - ResNet50/TinyImageNet - Comp Ratio: 64', 'Pruning time (ms)': '133.8704', 'CPU Speedup (x)': '1.146', 'GPU Speedup (x)': '0.947', 'Spatial Compression (x)': '1.322'}\n"
     ]
    },
    {
     "name": "stderr",
     "output_type": "stream",
     "text": [
      " 89%|███████████████████████████████████████████████████████████████████████████▌         | 8/9 [14:42<01:37, 97.62s/it]"
     ]
    },
    {
     "name": "stdout",
     "output_type": "stream",
     "text": [
      "{'# Non-Zero Params': 237011, '# Params': 15906568, 'Top-1 Accuracy': '46.43', 'CPU Inf (ms)': '5.0307', 'GPU Inf (ms)': '1.2209', 'id': 'DNNShifter - ResNet50/TinyImageNet - Comp Ratio: 128', 'Pruning time (ms)': '118.9928', 'CPU Speedup (x)': '1.223', 'GPU Speedup (x)': '0.980', 'Spatial Compression (x)': '1.607'}\n"
     ]
    },
    {
     "name": "stderr",
     "output_type": "stream",
     "text": [
      "100%|████████████████████████████████████████████████████████████████████████████████████| 9/9 [16:14<00:00, 108.30s/it]"
     ]
    },
    {
     "name": "stdout",
     "output_type": "stream",
     "text": [
      "{'# Non-Zero Params': 143687, '# Params': 13677121, 'Top-1 Accuracy': '40.63', 'CPU Inf (ms)': '5.2817', 'GPU Inf (ms)': '1.4005', 'id': 'DNNShifter - ResNet50/TinyImageNet - Comp Ratio: 256', 'Pruning time (ms)': '115.5803', 'CPU Speedup (x)': '1.165', 'GPU Speedup (x)': '0.854', 'Spatial Compression (x)': '1.869'}\n"
     ]
    },
    {
     "name": "stderr",
     "output_type": "stream",
     "text": [
      "\n"
     ]
    }
   ],
   "source": [
    "path = \"tinyimagenet_resnet50/dnnshifter/\"\n",
    "p = ModelProfiler('TinyImageNet')\n",
    "baseline_results = None\n",
    "for i in tqdm(comp_ratio):\n",
    "    results = None\n",
    "    if i == 1:\n",
    "        m = ResNetModel(str(path) + str(i) + \"/\")\n",
    "        baseline_results = p.profile(m.model)\n",
    "        baseline_results[\"id\"] = \"DNNShifter - ResNet50/TinyImageNet - Baseline\"\n",
    "        print(baseline_results)\n",
    "    \n",
    "    m = ResNetModel(str(path) + str(i) + \"/\")\n",
    "    prune_start = time.time()\n",
    "    m.prune()\n",
    "    prune_end = time.time()\n",
    "    results = p.profile(m.model)\n",
    "    \n",
    "    results[\"id\"] = \"DNNShifter - ResNet50/TinyImageNet - Comp Ratio: \" + str(i)\n",
    "    results[\"Pruning time (ms)\"] = format(((prune_end - prune_start) *1000), '.4f')\n",
    "    results[\"CPU Speedup (x)\"] = format(float(baseline_results.get(\"CPU Inf (ms)\")) / float(results.get(\"CPU Inf (ms)\")), '.3f')\n",
    "    results[\"GPU Speedup (x)\"] = format(float(baseline_results.get(\"GPU Inf (ms)\")) / float(results.get(\"GPU Inf (ms)\")), '.3f')\n",
    "    results[\"Spatial Compression (x)\"] = format(float(baseline_results.get(\"# Params\")) / float(results.get(\"# Params\")), '.3f')\n",
    "    \n",
    "    print(results)"
   ]
  },
  {
   "cell_type": "code",
   "execution_count": 6,
   "id": "dd8c7edc-fa8a-40f7-ae6c-d80730cc24ca",
   "metadata": {
    "collapsed": true,
    "jupyter": {
     "outputs_hidden": true
    },
    "tags": []
   },
   "outputs": [
    {
     "name": "stdout",
     "output_type": "stream",
     "text": [
      "{'# Non-Zero Params': 14728266, '# Params': 14728266, 'CPU Inf (ms)': '614.8745', 'GPU Inf (ms)': '4.3969', 'id': 'dnnshifter - VGG16/CIFAR10 - Baseline'}\n",
      "{'# Non-Zero Params': 7538609, '# Params': 14719818, 'CPU Inf (ms)': '475.3893', 'GPU Inf (ms)': '4.1080', 'id': 'dnnshifter - VGG16/CIFAR10 - Comp Ratio: 2', 'Pruning time (ms)': '143.9629', 'CPU Speedup (x)': '1.293', 'GPU Speedup (x)': '1.070', 'Spatial Compression (x)': '1.001'}\n",
      "{'# Non-Zero Params': 3861504, '# Params': 14296439, 'CPU Inf (ms)': '481.5724', 'GPU Inf (ms)': '4.2799', 'id': 'dnnshifter - VGG16/CIFAR10 - Comp Ratio: 4', 'Pruning time (ms)': '169.1453', 'CPU Speedup (x)': '1.277', 'GPU Speedup (x)': '1.027', 'Spatial Compression (x)': '1.030'}\n",
      "{'# Non-Zero Params': 1978974, '# Params': 14228064, 'CPU Inf (ms)': '572.2077', 'GPU Inf (ms)': '4.3751', 'id': 'dnnshifter - VGG16/CIFAR10 - Comp Ratio: 8', 'Pruning time (ms)': '142.5934', 'CPU Speedup (x)': '1.075', 'GPU Speedup (x)': '1.005', 'Spatial Compression (x)': '1.035'}\n",
      "{'# Non-Zero Params': 1015016, '# Params': 13420775, 'CPU Inf (ms)': '513.5696', 'GPU Inf (ms)': '4.2797', 'id': 'dnnshifter - VGG16/CIFAR10 - Comp Ratio: 16', 'Pruning time (ms)': '155.9279', 'CPU Speedup (x)': '1.197', 'GPU Speedup (x)': '1.027', 'Spatial Compression (x)': '1.097'}\n",
      "{'# Non-Zero Params': 417634, '# Params': 11580637, 'CPU Inf (ms)': '448.6539', 'GPU Inf (ms)': '4.0245', 'id': 'dnnshifter - VGG16/CIFAR10 - Comp Ratio: 32', 'Pruning time (ms)': '146.5497', 'CPU Speedup (x)': '1.370', 'GPU Speedup (x)': '1.093', 'Spatial Compression (x)': '1.272'}\n",
      "{'# Non-Zero Params': 214603, '# Params': 8749089, 'CPU Inf (ms)': '419.9383', 'GPU Inf (ms)': '3.7906', 'id': 'dnnshifter - VGG16/CIFAR10 - Comp Ratio: 64', 'Pruning time (ms)': '95.9504', 'CPU Speedup (x)': '1.464', 'GPU Speedup (x)': '1.160', 'Spatial Compression (x)': '1.683'}\n",
      "{'# Non-Zero Params': 109207, '# Params': 5293404, 'CPU Inf (ms)': '358.9303', 'GPU Inf (ms)': '3.2463', 'id': 'dnnshifter - VGG16/CIFAR10 - Comp Ratio: 128', 'Pruning time (ms)': '61.1303', 'CPU Speedup (x)': '1.713', 'GPU Speedup (x)': '1.354', 'Spatial Compression (x)': '2.782'}\n",
      "{'# Non-Zero Params': 53280, '# Params': 2863466, 'CPU Inf (ms)': '301.2216', 'GPU Inf (ms)': '3.1813', 'id': 'dnnshifter - VGG16/CIFAR10 - Comp Ratio: 256', 'Pruning time (ms)': '40.6425', 'CPU Speedup (x)': '2.041', 'GPU Speedup (x)': '1.382', 'Spatial Compression (x)': '5.144'}\n",
      "{'# Non-Zero Params': 7362025, '# Params': 14719818, 'CPU Inf (ms)': '495.4431', 'GPU Inf (ms)': '4.0096', 'id': 'magnitude - VGG16/CIFAR10 - Comp Ratio: 2', 'CPU Speedup (x)': '1.241', 'GPU Speedup (x)': '1.097', 'Spatial Compression (x)': '1.001'}\n",
      "{'# Non-Zero Params': 3683129, '# Params': 14719818, 'CPU Inf (ms)': '473.0069', 'GPU Inf (ms)': '4.0264', 'id': 'magnitude - VGG16/CIFAR10 - Comp Ratio: 4', 'CPU Speedup (x)': '1.300', 'GPU Speedup (x)': '1.092', 'Spatial Compression (x)': '1.001'}\n",
      "{'# Non-Zero Params': 1843681, '# Params': 14719818, 'CPU Inf (ms)': '522.7630', 'GPU Inf (ms)': '4.1176', 'id': 'magnitude - VGG16/CIFAR10 - Comp Ratio: 8', 'CPU Speedup (x)': '1.176', 'GPU Speedup (x)': '1.068', 'Spatial Compression (x)': '1.001'}\n",
      "{'# Non-Zero Params': 923957, '# Params': 14719818, 'CPU Inf (ms)': '482.2233', 'GPU Inf (ms)': '4.1490', 'id': 'magnitude - VGG16/CIFAR10 - Comp Ratio: 16', 'CPU Speedup (x)': '1.275', 'GPU Speedup (x)': '1.060', 'Spatial Compression (x)': '1.001'}\n",
      "{'# Non-Zero Params': 464095, '# Params': 14719818, 'CPU Inf (ms)': '471.0990', 'GPU Inf (ms)': '4.0713', 'id': 'magnitude - VGG16/CIFAR10 - Comp Ratio: 32', 'CPU Speedup (x)': '1.305', 'GPU Speedup (x)': '1.080', 'Spatial Compression (x)': '1.001'}\n",
      "{'# Non-Zero Params': 234089, '# Params': 14719818, 'CPU Inf (ms)': '474.9894', 'GPU Inf (ms)': '4.0303', 'id': 'magnitude - VGG16/CIFAR10 - Comp Ratio: 64', 'CPU Speedup (x)': '1.295', 'GPU Speedup (x)': '1.091', 'Spatial Compression (x)': '1.001'}\n",
      "{'# Non-Zero Params': 119161, '# Params': 14719818, 'CPU Inf (ms)': '487.8154', 'GPU Inf (ms)': '4.0242', 'id': 'magnitude - VGG16/CIFAR10 - Comp Ratio: 128', 'CPU Speedup (x)': '1.260', 'GPU Speedup (x)': '1.093', 'Spatial Compression (x)': '1.001'}\n",
      "{'# Non-Zero Params': 61768, '# Params': 14719818, 'CPU Inf (ms)': '549.8769', 'GPU Inf (ms)': '4.0206', 'id': 'magnitude - VGG16/CIFAR10 - Comp Ratio: 256', 'CPU Speedup (x)': '1.118', 'GPU Speedup (x)': '1.094', 'Spatial Compression (x)': '1.001'}\n",
      "{'# Non-Zero Params': 7361914, '# Params': 14719818, 'CPU Inf (ms)': '552.1636', 'GPU Inf (ms)': '4.1545', 'id': 'synflow - VGG16/CIFAR10 - Comp Ratio: 2', 'CPU Speedup (x)': '1.114', 'GPU Speedup (x)': '1.058', 'Spatial Compression (x)': '1.001'}\n",
      "{'# Non-Zero Params': 3683049, '# Params': 14719818, 'CPU Inf (ms)': '548.8990', 'GPU Inf (ms)': '4.0137', 'id': 'synflow - VGG16/CIFAR10 - Comp Ratio: 4', 'CPU Speedup (x)': '1.120', 'GPU Speedup (x)': '1.095', 'Spatial Compression (x)': '1.001'}\n",
      "{'# Non-Zero Params': 1843619, '# Params': 14719818, 'CPU Inf (ms)': '469.4151', 'GPU Inf (ms)': '4.0420', 'id': 'synflow - VGG16/CIFAR10 - Comp Ratio: 8', 'CPU Speedup (x)': '1.310', 'GPU Speedup (x)': '1.088', 'Spatial Compression (x)': '1.001'}\n",
      "{'# Non-Zero Params': 923904, '# Params': 14719818, 'CPU Inf (ms)': '468.8783', 'GPU Inf (ms)': '3.9610', 'id': 'synflow - VGG16/CIFAR10 - Comp Ratio: 16', 'CPU Speedup (x)': '1.311', 'GPU Speedup (x)': '1.110', 'Spatial Compression (x)': '1.001'}\n",
      "{'# Non-Zero Params': 464054, '# Params': 14719818, 'CPU Inf (ms)': '470.7972', 'GPU Inf (ms)': '4.0018', 'id': 'synflow - VGG16/CIFAR10 - Comp Ratio: 32', 'CPU Speedup (x)': '1.306', 'GPU Speedup (x)': '1.099', 'Spatial Compression (x)': '1.001'}\n",
      "{'# Non-Zero Params': 234055, '# Params': 14719818, 'CPU Inf (ms)': '463.0370', 'GPU Inf (ms)': '4.1660', 'id': 'synflow - VGG16/CIFAR10 - Comp Ratio: 64', 'CPU Speedup (x)': '1.328', 'GPU Speedup (x)': '1.055', 'Spatial Compression (x)': '1.001'}\n",
      "{'# Non-Zero Params': 119131, '# Params': 14719818, 'CPU Inf (ms)': '467.9155', 'GPU Inf (ms)': '3.8983', 'id': 'synflow - VGG16/CIFAR10 - Comp Ratio: 128', 'CPU Speedup (x)': '1.314', 'GPU Speedup (x)': '1.128', 'Spatial Compression (x)': '1.001'}\n",
      "{'# Non-Zero Params': 61744, '# Params': 14719818, 'CPU Inf (ms)': '654.3617', 'GPU Inf (ms)': '4.6401', 'id': 'synflow - VGG16/CIFAR10 - Comp Ratio: 256', 'CPU Speedup (x)': '0.940', 'GPU Speedup (x)': '0.948', 'Spatial Compression (x)': '1.001'}\n",
      "{'# Non-Zero Params': 7362024, '# Params': 14719818, 'CPU Inf (ms)': '559.9136', 'GPU Inf (ms)': '3.6459', 'id': 'random - VGG16/CIFAR10 - Comp Ratio: 2', 'CPU Speedup (x)': '1.098', 'GPU Speedup (x)': '1.206', 'Spatial Compression (x)': '1.001'}\n",
      "{'# Non-Zero Params': 3683129, '# Params': 14719818, 'CPU Inf (ms)': '544.1414', 'GPU Inf (ms)': '3.5970', 'id': 'random - VGG16/CIFAR10 - Comp Ratio: 4', 'CPU Speedup (x)': '1.130', 'GPU Speedup (x)': '1.222', 'Spatial Compression (x)': '1.001'}\n",
      "{'# Non-Zero Params': 1843680, '# Params': 14719818, 'CPU Inf (ms)': '442.6655', 'GPU Inf (ms)': '4.2294', 'id': 'random - VGG16/CIFAR10 - Comp Ratio: 8', 'CPU Speedup (x)': '1.389', 'GPU Speedup (x)': '1.040', 'Spatial Compression (x)': '1.001'}\n",
      "{'# Non-Zero Params': 923956, '# Params': 14719818, 'CPU Inf (ms)': '470.5327', 'GPU Inf (ms)': '3.5714', 'id': 'random - VGG16/CIFAR10 - Comp Ratio: 16', 'CPU Speedup (x)': '1.307', 'GPU Speedup (x)': '1.231', 'Spatial Compression (x)': '1.001'}\n",
      "{'# Non-Zero Params': 464095, '# Params': 14719818, 'CPU Inf (ms)': '442.9639', 'GPU Inf (ms)': '3.6368', 'id': 'random - VGG16/CIFAR10 - Comp Ratio: 32', 'CPU Speedup (x)': '1.388', 'GPU Speedup (x)': '1.209', 'Spatial Compression (x)': '1.001'}\n",
      "{'# Non-Zero Params': 234089, '# Params': 14719818, 'CPU Inf (ms)': '446.5804', 'GPU Inf (ms)': '3.5135', 'id': 'random - VGG16/CIFAR10 - Comp Ratio: 64', 'CPU Speedup (x)': '1.377', 'GPU Speedup (x)': '1.251', 'Spatial Compression (x)': '1.001'}\n",
      "{'# Non-Zero Params': 119160, '# Params': 14719818, 'CPU Inf (ms)': '539.0443', 'GPU Inf (ms)': '4.1378', 'id': 'random - VGG16/CIFAR10 - Comp Ratio: 128', 'CPU Speedup (x)': '1.141', 'GPU Speedup (x)': '1.063', 'Spatial Compression (x)': '1.001'}\n",
      "{'# Non-Zero Params': 61770, '# Params': 14719818, 'CPU Inf (ms)': '482.0569', 'GPU Inf (ms)': '3.9329', 'id': 'random - VGG16/CIFAR10 - Comp Ratio: 256', 'CPU Speedup (x)': '1.276', 'GPU Speedup (x)': '1.118', 'Spatial Compression (x)': '1.001'}\n",
      "Done!\n"
     ]
    }
   ],
   "source": [
    "#Exp 2b - VGG16/CIFAR10\n",
    "\n",
    "#Results for DNNShifter, Magnitude, Synflow, and Random\n",
    "def exp2a(method, method_itr, baseline_results, cpu_x, gpu_x,p):\n",
    "    comp_itr = 0\n",
    "    for i in comp_ratio:\n",
    "        results = None\n",
    "        path = \"cifar10_vgg16/\" + str(method) + \"/\" + str(i) + \"/\"\n",
    "        if (i == 1) and method == \"dnnshifter\":\n",
    "            m = VGGModel(path, False)\n",
    "            baseline_results = p.profile(m.model, no_acc_test=True)\n",
    "            baseline_results[\"id\"] = str(method) + \" - VGG16/CIFAR10 - Baseline\"\n",
    "            print(baseline_results)\n",
    "        elif (i == 1) and method != \"dnnshifter\":\n",
    "            continue\n",
    "        else:\n",
    "            m = VGGModel(path)\n",
    "            \n",
    "            if method == \"dnnshifter\":\n",
    "                prune_start = time.time()\n",
    "                m.prune()\n",
    "                prune_end = time.time()\n",
    "            \n",
    "            results = p.profile(m.model, no_acc_test=True)\n",
    "    \n",
    "            results[\"id\"] = str(method) + \" - VGG16/CIFAR10 - Comp Ratio: \" + str(i)\n",
    "            \n",
    "            if method == \"dnnshifter\":\n",
    "                results[\"Pruning time (ms)\"] = format(((prune_end - prune_start) *1000), '.4f')\n",
    "                \n",
    "            results[\"CPU Speedup (x)\"] = cpu_x[comp_itr,method_itr] = format(float(baseline_results.get(\"CPU Inf (ms)\")) / float(results.get(\"CPU Inf (ms)\")), '.3f')\n",
    "            results[\"GPU Speedup (x)\"] = gpu_x[comp_itr,method_itr] =format(float(baseline_results.get(\"GPU Inf (ms)\")) / float(results.get(\"GPU Inf (ms)\")), '.3f')\n",
    "            results[\"Spatial Compression (x)\"] = format(float(baseline_results.get(\"# Params\")) / float(results.get(\"# Params\")), '.3f')\n",
    "        \n",
    "            print(results)\n",
    "            comp_itr = comp_itr + 1\n",
    "    return cpu_x, gpu_x, baseline_results\n",
    "            \n",
    "#csv results\n",
    "cpu_x = np.zeros((8,4))\n",
    "gpu_x = np.zeros((8,4))\n",
    "\n",
    "methods = [\"dnnshifter\", \"magnitude\", \"synflow\", \"random\"]\n",
    "baseline_results = None\n",
    "method_itr = 0\n",
    "p = ModelProfiler('CIFAR10')\n",
    "for method in methods:\n",
    "    cpu_x, gpu_x, baseline_results = exp2a(method, method_itr, baseline_results, cpu_x, gpu_x,p)\n",
    "    method_itr = method_itr + 1\n",
    "    \n",
    "np.savetxt(\"cpu_x_output.csv\", cpu_x, delimiter=\",\")\n",
    "np.savetxt(\"gpu_x_output.csv\", gpu_x, delimiter=\",\")\n",
    "\n",
    "print(\"Done!\")\n"
   ]
  },
  {
   "cell_type": "code",
   "execution_count": 12,
   "id": "0372696b-86bc-4d46-b1ac-b7eb5d42f55b",
   "metadata": {
    "tags": []
   },
   "outputs": [
    {
     "name": "stdout",
     "output_type": "stream",
     "text": [
      "{'# Non-Zero Params': 25557032, '# Params': 25557032, 'CPU Inf (ms)': '820.1143', 'GPU Inf (ms)': '7.2278', 'id': 'dnnshifter - ResNet50/TinyImageNet - Baseline'}\n",
      "{'# Non-Zero Params': 13110763, '# Params': 24043863, 'CPU Inf (ms)': '724.6654', 'GPU Inf (ms)': '7.7929', 'id': 'dnnshifter - ResNet50/TinyImageNet - Comp Ratio: 2', 'Pruning time (ms)': '222.1315', 'CPU Speedup (x)': '1.132', 'GPU Speedup (x)': '0.927', 'Spatial Compression (x)': '1.063'}\n",
      "{'# Non-Zero Params': 6738454, '# Params': 23626937, 'CPU Inf (ms)': '874.0769', 'GPU Inf (ms)': '8.9158', 'id': 'dnnshifter - ResNet50/TinyImageNet - Comp Ratio: 4', 'Pruning time (ms)': '206.3344', 'CPU Speedup (x)': '0.938', 'GPU Speedup (x)': '0.811', 'Spatial Compression (x)': '1.082'}\n",
      "{'# Non-Zero Params': 3475735, '# Params': 23212347, 'CPU Inf (ms)': '855.7838', 'GPU Inf (ms)': '7.7167', 'id': 'dnnshifter - ResNet50/TinyImageNet - Comp Ratio: 8', 'Pruning time (ms)': '179.0314', 'CPU Speedup (x)': '0.958', 'GPU Speedup (x)': '0.937', 'Spatial Compression (x)': '1.101'}\n",
      "{'# Non-Zero Params': 1805125, '# Params': 22882047, 'CPU Inf (ms)': '945.6837', 'GPU Inf (ms)': '7.7091', 'id': 'dnnshifter - ResNet50/TinyImageNet - Comp Ratio: 16', 'Pruning time (ms)': '188.2899', 'CPU Speedup (x)': '0.867', 'GPU Speedup (x)': '0.938', 'Spatial Compression (x)': '1.117'}\n",
      "{'# Non-Zero Params': 769895, '# Params': 21925674, 'CPU Inf (ms)': '712.9156', 'GPU Inf (ms)': '7.6595', 'id': 'dnnshifter - ResNet50/TinyImageNet - Comp Ratio: 32', 'Pruning time (ms)': '185.8611', 'CPU Speedup (x)': '1.150', 'GPU Speedup (x)': '0.944', 'Spatial Compression (x)': '1.166'}\n",
      "{'# Non-Zero Params': 418208, '# Params': 19338853, 'CPU Inf (ms)': '813.4363', 'GPU Inf (ms)': '6.2874', 'id': 'dnnshifter - ResNet50/TinyImageNet - Comp Ratio: 64', 'Pruning time (ms)': '164.9828', 'CPU Speedup (x)': '1.008', 'GPU Speedup (x)': '1.150', 'Spatial Compression (x)': '1.322'}\n",
      "{'# Non-Zero Params': 237011, '# Params': 15906568, 'CPU Inf (ms)': '671.5782', 'GPU Inf (ms)': '5.8175', 'id': 'dnnshifter - ResNet50/TinyImageNet - Comp Ratio: 128', 'Pruning time (ms)': '155.7231', 'CPU Speedup (x)': '1.221', 'GPU Speedup (x)': '1.242', 'Spatial Compression (x)': '1.607'}\n",
      "{'# Non-Zero Params': 143687, '# Params': 13677121, 'CPU Inf (ms)': '696.4557', 'GPU Inf (ms)': '5.7355', 'id': 'dnnshifter - ResNet50/TinyImageNet - Comp Ratio: 256', 'Pruning time (ms)': '147.1593', 'CPU Speedup (x)': '1.178', 'GPU Speedup (x)': '1.260', 'Spatial Compression (x)': '1.869'}\n",
      "{'# Non-Zero Params': 12805574, '# Params': 25557032, 'CPU Inf (ms)': '860.3857', 'GPU Inf (ms)': '8.0954', 'id': 'magnitude - ResNet50/TinyImageNet - Comp Ratio: 2', 'CPU Speedup (x)': '0.953', 'GPU Speedup (x)': '0.893', 'Spatial Compression (x)': '1.000'}\n",
      "{'# Non-Zero Params': 6429847, '# Params': 25557032, 'CPU Inf (ms)': '817.6906', 'GPU Inf (ms)': '8.0537', 'id': 'magnitude - ResNet50/TinyImageNet - Comp Ratio: 4', 'CPU Speedup (x)': '1.003', 'GPU Speedup (x)': '0.897', 'Spatial Compression (x)': '1.000'}\n",
      "{'# Non-Zero Params': 3241983, '# Params': 25557032, 'CPU Inf (ms)': '898.9677', 'GPU Inf (ms)': '9.8024', 'id': 'magnitude - ResNet50/TinyImageNet - Comp Ratio: 8', 'CPU Speedup (x)': '0.912', 'GPU Speedup (x)': '0.737', 'Spatial Compression (x)': '1.000'}\n",
      "{'# Non-Zero Params': 1645186, '# Params': 25557032, 'CPU Inf (ms)': '1446.7420', 'GPU Inf (ms)': '9.8254', 'id': 'magnitude - ResNet50/TinyImageNet - Comp Ratio: 16', 'CPU Speedup (x)': '0.567', 'GPU Speedup (x)': '0.736', 'Spatial Compression (x)': '1.000'}\n",
      "{'# Non-Zero Params': 839180, '# Params': 25557032, 'CPU Inf (ms)': '858.1225', 'GPU Inf (ms)': '8.6026', 'id': 'magnitude - ResNet50/TinyImageNet - Comp Ratio: 32', 'CPU Speedup (x)': '0.956', 'GPU Speedup (x)': '0.840', 'Spatial Compression (x)': '1.000'}\n",
      "{'# Non-Zero Params': 430212, '# Params': 25557032, 'CPU Inf (ms)': '750.7444', 'GPU Inf (ms)': '8.4507', 'id': 'magnitude - ResNet50/TinyImageNet - Comp Ratio: 64', 'CPU Speedup (x)': '1.092', 'GPU Speedup (x)': '0.855', 'Spatial Compression (x)': '1.000'}\n",
      "{'# Non-Zero Params': 226736, '# Params': 25557032, 'CPU Inf (ms)': '859.8500', 'GPU Inf (ms)': '8.4745', 'id': 'magnitude - ResNet50/TinyImageNet - Comp Ratio: 128', 'CPU Speedup (x)': '0.954', 'GPU Speedup (x)': '0.853', 'Spatial Compression (x)': '1.000'}\n",
      "{'# Non-Zero Params': 127275, '# Params': 25557032, 'CPU Inf (ms)': '870.3780', 'GPU Inf (ms)': '8.4800', 'id': 'magnitude - ResNet50/TinyImageNet - Comp Ratio: 256', 'CPU Speedup (x)': '0.942', 'GPU Speedup (x)': '0.852', 'Spatial Compression (x)': '1.000'}\n",
      "{'# Non-Zero Params': 12803598, '# Params': 25557032, 'CPU Inf (ms)': '834.9319', 'GPU Inf (ms)': '8.9729', 'id': 'synflow - ResNet50/TinyImageNet - Comp Ratio: 2', 'CPU Speedup (x)': '0.982', 'GPU Speedup (x)': '0.806', 'Spatial Compression (x)': '1.000'}\n",
      "{'# Non-Zero Params': 6424233, '# Params': 25557032, 'CPU Inf (ms)': '898.3603', 'GPU Inf (ms)': '8.3837', 'id': 'synflow - ResNet50/TinyImageNet - Comp Ratio: 4', 'CPU Speedup (x)': '0.913', 'GPU Speedup (x)': '0.862', 'Spatial Compression (x)': '1.000'}\n",
      "{'# Non-Zero Params': 3232808, '# Params': 25557032, 'CPU Inf (ms)': '846.4129', 'GPU Inf (ms)': '8.5334', 'id': 'synflow - ResNet50/TinyImageNet - Comp Ratio: 8', 'CPU Speedup (x)': '0.969', 'GPU Speedup (x)': '0.847', 'Spatial Compression (x)': '1.000'}\n",
      "{'# Non-Zero Params': 1635554, '# Params': 25557032, 'CPU Inf (ms)': '931.5228', 'GPU Inf (ms)': '7.8940', 'id': 'synflow - ResNet50/TinyImageNet - Comp Ratio: 16', 'CPU Speedup (x)': '0.880', 'GPU Speedup (x)': '0.916', 'Spatial Compression (x)': '1.000'}\n",
      "{'# Non-Zero Params': 835590, '# Params': 25557032, 'CPU Inf (ms)': '875.3324', 'GPU Inf (ms)': '8.4287', 'id': 'synflow - ResNet50/TinyImageNet - Comp Ratio: 32', 'CPU Speedup (x)': '0.937', 'GPU Speedup (x)': '0.858', 'Spatial Compression (x)': '1.000'}\n",
      "{'# Non-Zero Params': 434315, '# Params': 25557032, 'CPU Inf (ms)': '892.0341', 'GPU Inf (ms)': '7.9411', 'id': 'synflow - ResNet50/TinyImageNet - Comp Ratio: 64', 'CPU Speedup (x)': '0.919', 'GPU Speedup (x)': '0.910', 'Spatial Compression (x)': '1.000'}\n",
      "{'# Non-Zero Params': 232837, '# Params': 25557032, 'CPU Inf (ms)': '860.7597', 'GPU Inf (ms)': '8.1383', 'id': 'synflow - ResNet50/TinyImageNet - Comp Ratio: 128', 'CPU Speedup (x)': '0.953', 'GPU Speedup (x)': '0.888', 'Spatial Compression (x)': '1.000'}\n",
      "{'# Non-Zero Params': 131568, '# Params': 25557032, 'CPU Inf (ms)': '854.7434', 'GPU Inf (ms)': '7.6820', 'id': 'synflow - ResNet50/TinyImageNet - Comp Ratio: 256', 'CPU Speedup (x)': '0.959', 'GPU Speedup (x)': '0.941', 'Spatial Compression (x)': '1.000'}\n",
      "{'# Non-Zero Params': 12805573, '# Params': 25557032, 'CPU Inf (ms)': '857.0319', 'GPU Inf (ms)': '9.0549', 'id': 'random - ResNet50/TinyImageNet - Comp Ratio: 2', 'CPU Speedup (x)': '0.957', 'GPU Speedup (x)': '0.798', 'Spatial Compression (x)': '1.000'}\n",
      "{'# Non-Zero Params': 6429846, '# Params': 25557032, 'CPU Inf (ms)': '1036.2328', 'GPU Inf (ms)': '8.8865', 'id': 'random - ResNet50/TinyImageNet - Comp Ratio: 4', 'CPU Speedup (x)': '0.791', 'GPU Speedup (x)': '0.813', 'Spatial Compression (x)': '1.000'}\n",
      "{'# Non-Zero Params': 3241981, '# Params': 25557032, 'CPU Inf (ms)': '1047.3510', 'GPU Inf (ms)': '8.8998', 'id': 'random - ResNet50/TinyImageNet - Comp Ratio: 8', 'CPU Speedup (x)': '0.783', 'GPU Speedup (x)': '0.812', 'Spatial Compression (x)': '1.000'}\n",
      "{'# Non-Zero Params': 1648049, '# Params': 25557032, 'CPU Inf (ms)': '964.4466', 'GPU Inf (ms)': '9.5477', 'id': 'random - ResNet50/TinyImageNet - Comp Ratio: 16', 'CPU Speedup (x)': '0.850', 'GPU Speedup (x)': '0.757', 'Spatial Compression (x)': '1.000'}\n",
      "{'# Non-Zero Params': 851065, '# Params': 25557032, 'CPU Inf (ms)': '977.3724', 'GPU Inf (ms)': '9.1236', 'id': 'random - ResNet50/TinyImageNet - Comp Ratio: 32', 'CPU Speedup (x)': '0.839', 'GPU Speedup (x)': '0.792', 'Spatial Compression (x)': '1.000'}\n",
      "{'# Non-Zero Params': 452290, '# Params': 25557032, 'CPU Inf (ms)': '850.5924', 'GPU Inf (ms)': '9.0070', 'id': 'random - ResNet50/TinyImageNet - Comp Ratio: 64', 'CPU Speedup (x)': '0.964', 'GPU Speedup (x)': '0.802', 'Spatial Compression (x)': '1.000'}\n",
      "{'# Non-Zero Params': 252458, '# Params': 25557032, 'CPU Inf (ms)': '888.4902', 'GPU Inf (ms)': '7.9215', 'id': 'random - ResNet50/TinyImageNet - Comp Ratio: 128', 'CPU Speedup (x)': '0.923', 'GPU Speedup (x)': '0.912', 'Spatial Compression (x)': '1.000'}\n",
      "{'# Non-Zero Params': 150568, '# Params': 25557032, 'CPU Inf (ms)': '927.3550', 'GPU Inf (ms)': '7.9025', 'id': 'random - ResNet50/TinyImageNet - Comp Ratio: 256', 'CPU Speedup (x)': '0.884', 'GPU Speedup (x)': '0.915', 'Spatial Compression (x)': '1.000'}\n",
      "Done!\n"
     ]
    }
   ],
   "source": [
    "#Exp 2b - ResNet50/TinyImageNet\n",
    "\n",
    "#Results for DNNShifter, Magnitude, Synflow, and Random\n",
    "def exp2a(method, method_itr, baseline_results, cpu_x, gpu_x,p):\n",
    "    comp_itr = 0\n",
    "    for i in comp_ratio:\n",
    "        results = None\n",
    "        path = \"tinyimagenet_resnet50/\" + str(method) + \"/\" + str(i) + \"/\"\n",
    "        if (i == 1) and method == \"dnnshifter\":\n",
    "            m = ResNetModel(path)\n",
    "            baseline_results = p.profile(m.model, no_acc_test=True)\n",
    "            baseline_results[\"id\"] = str(method) + \" - ResNet50/TinyImageNet - Baseline\"\n",
    "            print(baseline_results)\n",
    "        elif (i == 1) and method != \"dnnshifter\":\n",
    "            continue\n",
    "        else:\n",
    "            m = ResNetModel(path)\n",
    "            \n",
    "            if method == \"dnnshifter\":\n",
    "                prune_start = time.time()\n",
    "                m.prune()\n",
    "                prune_end = time.time()\n",
    "            \n",
    "            results = p.profile(m.model, no_acc_test=True)\n",
    "    \n",
    "            results[\"id\"] = str(method) + \" - ResNet50/TinyImageNet - Comp Ratio: \" + str(i)\n",
    "            \n",
    "            if method == \"dnnshifter\":\n",
    "                results[\"Pruning time (ms)\"] = format(((prune_end - prune_start) *1000), '.4f')\n",
    "                \n",
    "            results[\"CPU Speedup (x)\"] = cpu_x[comp_itr,method_itr] = format(float(baseline_results.get(\"CPU Inf (ms)\")) / float(results.get(\"CPU Inf (ms)\")), '.3f')\n",
    "            results[\"GPU Speedup (x)\"] = gpu_x[comp_itr,method_itr] =format(float(baseline_results.get(\"GPU Inf (ms)\")) / float(results.get(\"GPU Inf (ms)\")), '.3f')\n",
    "            results[\"Spatial Compression (x)\"] = format(float(baseline_results.get(\"# Params\")) / float(results.get(\"# Params\")), '.3f')\n",
    "        \n",
    "            print(results)\n",
    "            comp_itr = comp_itr + 1\n",
    "    return cpu_x, gpu_x, baseline_results\n",
    "            \n",
    "#csv results\n",
    "cpu_x = np.zeros((8,4))\n",
    "gpu_x = np.zeros((8,4))\n",
    "\n",
    "methods = [\"dnnshifter\", \"magnitude\", \"synflow\", \"random\"]\n",
    "baseline_results = None\n",
    "method_itr = 0\n",
    "p = ModelProfiler('TinyImageNet')\n",
    "for method in methods:\n",
    "    cpu_x, gpu_x, baseline_results = exp2a(method, method_itr, baseline_results, cpu_x, gpu_x,p)\n",
    "    method_itr = method_itr + 1\n",
    "    \n",
    "np.savetxt(\"cpu_x_output.csv\", cpu_x, delimiter=\",\")\n",
    "np.savetxt(\"gpu_x_output.csv\", gpu_x, delimiter=\",\")\n",
    "\n",
    "print(\"Done!\")\n"
   ]
  },
  {
   "cell_type": "code",
   "execution_count": null,
   "id": "4cd6ee24-834e-4f95-8225-bfe95cdeb88f",
   "metadata": {},
   "outputs": [],
   "source": []
  }
 ],
 "metadata": {
  "kernelspec": {
   "display_name": "Python 3 (ipykernel)",
   "language": "python",
   "name": "python3"
  },
  "language_info": {
   "codemirror_mode": {
    "name": "ipython",
    "version": 3
   },
   "file_extension": ".py",
   "mimetype": "text/x-python",
   "name": "python",
   "nbconvert_exporter": "python",
   "pygments_lexer": "ipython3",
   "version": "3.8.10"
  }
 },
 "nbformat": 4,
 "nbformat_minor": 5
}
